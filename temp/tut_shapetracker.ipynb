{
 "cells": [
  {
   "cell_type": "code",
   "execution_count": 2,
   "metadata": {},
   "outputs": [],
   "source": [
    "# from these notes: https://mesozoic-egg.github.io/tinygrad-notes/shapetracker.html\n",
    "\n",
    "from tinygrad import Tensor\n",
    "from tinygrad.shape.shapetracker import ShapeTracker\n",
    "from tinygrad.shape.view import View"
   ]
  },
  {
   "cell_type": "code",
   "execution_count": 33,
   "metadata": {},
   "outputs": [
    {
     "name": "stdout",
     "output_type": "stream",
     "text": [
      "saving DiGraph with 3 nodes and 2 edges to /home/james/code/tinygrad/tinygrad/temp/net.uops.svg\n",
      "[0 1 2 3 4 5 6 7]\n",
      "0\n",
      "saving DiGraph with 7 nodes and 7 edges to /home/james/code/tinygrad/tinygrad/temp/net.uops.svg\n",
      "[  0  42  84 126 168 210 252 294]\n",
      "210\n",
      "ShapeTracker(views=(View(shape=(8,), strides=(1,), offset=0, mask=None, contiguous=True),))\n",
      "<idx0[0-7]>\n",
      "idx0\n",
      "((idx0*4)+idx1)\n",
      "((idx0*4)+(idx1*2)+idx2)\n"
     ]
    }
   ],
   "source": [
    "t1 = Tensor.arange(start=0, stop=8, step=1)\n",
    "t2 = Tensor(42)\n",
    "print(t1.numpy())\n",
    "print(t1.data()[0])\n",
    "\n",
    "t3 = t1 * t2\n",
    "print(t3.numpy())\n",
    "print(t3.data()[5])\n",
    "\n",
    "\n",
    "st = t3.lazydata.st\n",
    "print(st)\n",
    "\n",
    "v = ShapeTracker.from_shape((8,))\n",
    "\n",
    "# print(v.[3]) # how to access the actuall underlying data?\n",
    "\n",
    "print(v.expr_idxs()[0])\n",
    "print(v.expr_idxs()[0].render())\n",
    "\n",
    "v = v.reshape((2, 4))\n",
    "print(v.expr_idxs()[0].render())\n",
    "\n",
    "v = v.reshape((2,2,2))\n",
    "print(v.expr_idxs()[0].render())\n"
   ]
  },
  {
   "cell_type": "code",
   "execution_count": 111,
   "metadata": {},
   "outputs": [
    {
     "name": "stdout",
     "output_type": "stream",
     "text": [
      "Tensor 1\n",
      "[0 1 2 3 4 5 6 7]\n",
      "5\n",
      "(View(shape=(8,), strides=(1,), offset=0, mask=None, contiguous=True),)\n",
      "idx0\n",
      "\n",
      "Tensor 1 - Reshape 2x4\n",
      "[[0 1 2 3]\n",
      " [4 5 6 7]]\n",
      "(View(shape=(2, 4), strides=(4, 1), offset=0, mask=None, contiguous=True),)\n",
      "((idx0*4)+idx1)\n",
      "\n",
      "Tensor 1 - Reshape 2x2x2\n",
      "[[[0 1]\n",
      "  [2 3]]\n",
      "\n",
      " [[4 5]\n",
      "  [6 7]]]\n",
      "(View(shape=(2, 2, 2), strides=(4, 2, 1), offset=0, mask=None, contiguous=True),)\n",
      "((idx0*4)+(idx1*2)+idx2)\n",
      "\n",
      "Tensor 1 - Permute 2,1,0\n",
      "[[[0 4]\n",
      "  [2 6]]\n",
      "\n",
      " [[1 5]\n",
      "  [3 7]]]\n",
      "(View(shape=(2, 2, 2), strides=(1, 2, 4), offset=0, mask=None, contiguous=False),)\n",
      "\n",
      "Tensor 1 - Reshape 4x2\n",
      "[[0 4]\n",
      " [2 6]\n",
      " [1 5]\n",
      " [3 7]]\n",
      "(View(shape=(2, 2, 2), strides=(1, 2, 4), offset=0, mask=None, contiguous=False), View(shape=(4, 2), strides=(2, 1), offset=0, mask=None, contiguous=True))\n",
      "(((idx0%2)*2)+(idx0//2)+(idx1*4))\n",
      "False\n",
      "(4, 2)\n",
      "8\n"
     ]
    }
   ],
   "source": [
    "print(\"Tensor 1\")\n",
    "t1 = Tensor.arange(start=0, stop=8, step=1)\n",
    "print(t1.numpy())\n",
    "print(t1.data()[5])\n",
    "print(t1.lazydata.st.views)\n",
    "print(t1.lazydata.st.expr_idxs()[0].render())\n",
    "\n",
    "print(\"\\nTensor 1 - Reshape 2x4\")\n",
    "t2 = t1.reshape(2, 4)\n",
    "print(t2.numpy())\n",
    "print(t2.lazydata.st.views)\n",
    "print(t2.lazydata.st.expr_idxs()[0].render())\n",
    "\n",
    "print(\"\\nTensor 1 - Reshape 2x2x2\")\n",
    "t3 = t1.reshape(2, 2, 2)\n",
    "print(t3.numpy())\n",
    "print(t3.lazydata.st.views)\n",
    "print(t3.lazydata.st.expr_idxs()[0].render())\n",
    "\n",
    "print(\"\\nTensor 1 - Permute 2,1,0\")\n",
    "t4 = t3.permute((2,1,0))\n",
    "print(t4.numpy())\n",
    "print(t4.lazydata.st.views)\n",
    "\n",
    "print(\"\\nTensor 1 - Reshape 4x2\")\n",
    "t5 = t4.reshape(4, 2)\n",
    "print(t5.numpy())\n",
    "print(t5.lazydata.st.views)\n",
    "print(t5.lazydata.st.expr_idxs()[0].render())\n",
    "\n",
    "print(t5.lazydata.st.contiguous)\n",
    "print(t5.shape)\n",
    "print(t5.lazydata.st.size)\n"
   ]
  },
  {
   "cell_type": "code",
   "execution_count": 93,
   "metadata": {},
   "outputs": [
    {
     "name": "stdout",
     "output_type": "stream",
     "text": [
      "(View(shape=(2, 4), strides=(4, 1), offset=0, mask=None, contiguous=True),)\n",
      "(View(shape=(4, 2), strides=(1, 4), offset=0, mask=None, contiguous=False),)\n",
      "((idx1*4)+idx0)\n",
      "(View(shape=(4, 2), strides=(1, 4), offset=0, mask=None, contiguous=False), View(shape=(2, 4), strides=(4, 1), offset=0, mask=None, contiguous=True))\n",
      "ShapeTracker(views=(View(shape=(4, 2), strides=(1, 4), offset=0, mask=None, contiguous=False), View(shape=(2, 4), strides=(4, 1), offset=0, mask=None, contiguous=True)))\n"
     ]
    }
   ],
   "source": [
    "shape = ShapeTracker.from_shape((4,2))\n",
    "shape = shape.reshape((2,2,2))\n",
    "shape = shape.reshape((2,4))\n",
    "print(shape.views)\n",
    "\n",
    "shape = shape.permute((1,0))\n",
    "print(shape.views)\n",
    "print(shape.expr_idxs()[0].render())\n",
    "\n",
    "shape = shape.reshape((2,4))\n",
    "print(shape.views)\n",
    "\n",
    "print(shape.simplify())\n"
   ]
  },
  {
   "cell_type": "code",
   "execution_count": null,
   "metadata": {},
   "outputs": [],
   "source": []
  }
 ],
 "metadata": {
  "kernelspec": {
   "display_name": "venv",
   "language": "python",
   "name": "python3"
  },
  "language_info": {
   "codemirror_mode": {
    "name": "ipython",
    "version": 3
   },
   "file_extension": ".py",
   "mimetype": "text/x-python",
   "name": "python",
   "nbconvert_exporter": "python",
   "pygments_lexer": "ipython3",
   "version": "3.12.0"
  }
 },
 "nbformat": 4,
 "nbformat_minor": 2
}
