{
 "cells": [
  {
   "cell_type": "code",
   "execution_count": 1,
   "metadata": {},
   "outputs": [],
   "source": [
    "from tinygrad import Tensor\n",
    "from tinygrad.shape.shapetracker import ShapeTracker\n",
    "from tinygrad.shape.view import View"
   ]
  },
  {
   "cell_type": "code",
   "execution_count": 5,
   "metadata": {},
   "outputs": [
    {
     "name": "stdout",
     "output_type": "stream",
     "text": [
      "\u001b[32m*** CUDA       5\u001b[0m \u001b[33mcopy        8,    CUDA <- NPY    \u001b[0m      arg   2 mem  0.00 GB tm   1381.20us/     6.38ms (    0.00 GFLOPS,    0.00 GB/s) \n",
      "\u001b[32m*** CUDA       6\u001b[0m \u001b[33mcopy        8,    CUDA <- NPY    \u001b[0m      arg   2 mem  0.00 GB tm    336.60us/     6.72ms (    0.00 GFLOPS,    0.00 GB/s) \n",
      "*** CUDA       7 r_\u001b[35m2\u001b[0m\u001b[90m\u001b[0m                                    arg   3 mem  0.00 GB tm    623.17us/     7.34ms (    0.00 GFLOPS,    0.00 GB/s) ['dot']\n",
      "\u001b[32m*** CLANG      8\u001b[0m \u001b[33mcopy        4,   CLANG <- CUDA   \u001b[0m      arg   2 mem  0.00 GB tm    208.30us/     7.55ms (    0.00 GFLOPS,    0.00 GB/s) \n",
      "11\n"
     ]
    }
   ],
   "source": [
    "# dot product between [1,2] and [3,4] is 1 * 3 + 2 * 4 = 11\n",
    "b = Tensor([1,2])\n",
    "b = Tensor([3,4])\n",
    "res = b.dot(b)\n",
    "print(res.numpy()) # 11"
   ]
  },
  {
   "cell_type": "code",
   "execution_count": 77,
   "metadata": {},
   "outputs": [
    {
     "name": "stdout",
     "output_type": "stream",
     "text": [
      "--------------------A\n",
      "memory:\n",
      " [ 0  1  2  3  4  5  6  7  8  9 10 11 12 13 14 15 16 17 18 19]\n",
      "\n",
      "tensor:\n",
      " [[ 2  3  4  5  0  0  0]\n",
      " [ 6  7  8  9  0  0  0]\n",
      " [10 11 12 13  0  0  0]]\n",
      "\n",
      "a.shape=(3, 7)\n",
      "a.lazydata.st.views=(View(shape=(3, 7), strides=(4, 1), offset=2, mask=((0, 3), (0, 4)), contiguous=False),)\n",
      "idx=((Variable('idx0', 0, 2)*4)+NumNode(2)+Variable('idx1', 0, 6))\n",
      "valid=(Variable('idx1', 0, 6)<4)\n",
      "View(shape=(3, 7), strides=(4, 1), offset=2, mask=((0, 3), (0, 4)), contiguous=False)\n",
      "View(shape=(3, 7), strides=(4, 1), offset=2, mask=((0, 3), (0, 4)), contiguous=False)\n",
      "(View(shape=(3, 7), strides=(4, 1), offset=2, mask=((0, 3), (0, 4)), contiguous=False),)\n"
     ]
    }
   ],
   "source": [
    "print(\"--------------------A\")\n",
    "t = Tensor(list(range(20)))\n",
    "# b = Tensor(list(range(20)))\n",
    "\n",
    "print(f\"memory:\\n {t.numpy()}\\n\")\n",
    "\n",
    "a = t[2:14].reshape(3, 4).pad((None, (0, 3)))#.shrink((None, (0, 4)))\n",
    "print(f\"tensor:\\n {a.numpy()}\\n\")\n",
    "\n",
    "print(f'{a.shape=}')\n",
    "print(f'{a.lazydata.st.views=}')\n",
    "idx, valid = a.lazydata.st.expr_idxs()\n",
    "print(f'{idx=}')  # index -> buf location\n",
    "print(f'{valid=}')  # mask\n",
    "\n",
    "print(a.lazydata.st.views[0])\n",
    "# print(a.lazydata.st.views[1])\n",
    "\n",
    "v_1 = a.lazydata.st.views[0]\n",
    "print(v_1)\n",
    "\n",
    "a.reshape((1, 21))\n",
    "print(a.lazydata.st.views)\n",
    "\n",
    "# why no new view created? of view didn't update?"
   ]
  },
  {
   "cell_type": "code",
   "execution_count": 78,
   "metadata": {},
   "outputs": [
    {
     "name": "stdout",
     "output_type": "stream",
     "text": [
      "--------------------B\n",
      "b:  <Tensor <LB CUDA (20,) int (<MetaOps.COPY: 3>, None)> on CUDA with grad None>\n",
      "b.numpy(): [ 0  1  2  3  4  5  6  7  8  9 10 11 12 13 14 15 16 17 18 19]\n",
      "b.lazydata.st.views:  (View(shape=(20,), strides=(1,), offset=0, mask=None, contiguous=True),)\n"
     ]
    }
   ],
   "source": [
    "print(\"--------------------B\")\n",
    "b = Tensor(list(range(20)))\n",
    "print(\"b: \", b)\n",
    "print(\"b.numpy():\", b.numpy())\n",
    "print(\"b.lazydata.st.views: \", b.lazydata.st.views)"
   ]
  },
  {
   "cell_type": "code",
   "execution_count": 79,
   "metadata": {},
   "outputs": [
    {
     "name": "stdout",
     "output_type": "stream",
     "text": [
      "--------------------C\n",
      "[[1. 0. 0.]\n",
      " [0. 1. 0.]\n",
      " [0. 0. 1.]]\n",
      "\n",
      "c.shape=(3, 3)\n",
      "c.lazydata.st.views=(View(shape=(3, 4), strides=(0, 0), offset=0, mask=((0, 3), (0, 1)), contiguous=False), View(shape=(3, 3), strides=(3, 1), offset=0, mask=None, contiguous=True))\n",
      "idx=NumNode(0)\n",
      "valid=(((((Variable('idx0', 0, 2)*3)%4)+Variable('idx1', 0, 2))%4)<1)\n",
      "View(shape=(3, 4), strides=(0, 0), offset=0, mask=((0, 3), (0, 1)), contiguous=False)\n",
      "View(shape=(3, 3), strides=(3, 1), offset=0, mask=None, contiguous=True)\n"
     ]
    }
   ],
   "source": [
    "print(\"--------------------C\")\n",
    "c = Tensor.eye(3).realize()\n",
    "print(c.numpy())\n",
    "\n",
    "# assert not a.lazydata.is_unrealized_const()\n",
    "\n",
    "# print(\"b.realize: \", b.realize())\n",
    "\n",
    "# print(\"b.lazydata.base: \", b.lazydata.base)\n",
    "print()\n",
    "\n",
    "print(f'{c.shape=}')\n",
    "print(f'{c.lazydata.st.views=}')\n",
    "idx, valid = c.lazydata.st.expr_idxs()\n",
    "print(f'{idx=}')  # index -> buf location\n",
    "print(f'{valid=}')  # mask\n",
    "\n",
    "print(c.lazydata.st.views[0])\n",
    "print(c.lazydata.st.views[1])\n",
    "\n",
    "# why are there two views here?"
   ]
  },
  {
   "cell_type": "code",
   "execution_count": null,
   "metadata": {},
   "outputs": [],
   "source": [
    "print(\"--------------------C\")\n",
    "\n",
    "s = ShapeTracker(views=(\n",
    "    # idk random\n",
    "    View.create(shape=(20,), strides=(1,), offset=0, mask=None),\n",
    "    View.create(shape=(3, 5), strides=(3, 1), offset=2, mask=((0, 3), (0, 3))),\n",
    "))\n",
    "print(s)\n",
    "print(s.simplify())\n",
    "\n",
    "v = View.create(shape=(9,), strides=(1,), offset=0, mask=None)\n",
    "print(v.reshape((3, 3)))"
   ]
  },
  {
   "cell_type": "code",
   "execution_count": 7,
   "metadata": {},
   "outputs": [
    {
     "data": {
      "text/plain": [
       "View(shape=(1, 1, 1, 1, 3, 3, 3, 3), strides=(0, 0, 0, 0, 27, 9, 3, 1), offset=0, mask=None, contiguous=True)"
      ]
     },
     "execution_count": 7,
     "metadata": {},
     "output_type": "execute_result"
    }
   ],
   "source": [
    "# found a 3 view shapetracker that can be expressed with 2 views.\n",
    "\n",
    "View(shape=(1, 1, 2, 4, 2, 4), strides=(0, 0, 2, 8, 1, 4), offset=0, mask=((0, 1), (0, 1), (0, 2), (0, 2), (0, 2), (0, 2)), contiguous=False)\n",
    "View(shape=(1, 1, 9, 9), strides=(0, 0, 8, 1), offset=0, mask=((0, 1), (0, 1), (0, 8), (0, 8)), contiguous=False)\n",
    "View(shape=(1, 1, 1, 1, 3, 3, 3, 3), strides=(0, 0, 0, 0, 27, 9, 3, 1), offset=0, mask=None, contiguous=True)\n",
    "\n",
    "\n",
    "# the trick is that you can have extra mask on the final view because it's already masked on the top one\n",
    "\n",
    "View(shape=(1, 1, 2, 4, 2, 4), strides=(0, 0, 2, 8, 1, 4), offset=0, mask=((0, 1), (0, 1), (0, 2), (0, 2), (0, 2), (0, 2)), contiguous=False)\n",
    "View(shape=(1, 1, 1, 1, 3, 3, 3, 3), strides=(0, 0, 0, 0, 24, 8, 3, 1), offset=0, mask=((0, 1), (0, 1), (0, 1), (0, 1), (0, 2), (0, 3), (0, 2), (0, 3)), contiguous=False)"
   ]
  },
  {
   "cell_type": "code",
   "execution_count": 5,
   "metadata": {},
   "outputs": [
    {
     "name": "stdout",
     "output_type": "stream",
     "text": [
      "memory:\n",
      "[ 0  1  2  3  4  5  6  7  8  9 10 11 12 13 14 15 16 17 18 19 20 21 22 23\n",
      " 24 25 26 27 28 29 30 31 32 33 34 35 36 37 38 39 40 41 42 43 44 45 46 47\n",
      " 48 49 50 51 52 53 54 55 56 57 58 59 60 61 62 63]\n",
      "\n",
      "t1_shaped:\n",
      "[[[[[[ 0  1  2  3]\n",
      "     [ 4  5  6  7]]\n",
      "\n",
      "    [[ 8  9 10 11]\n",
      "     [12 13 14 15]]\n",
      "\n",
      "    [[16 17 18 19]\n",
      "     [20 21 22 23]]\n",
      "\n",
      "    [[24 25 26 27]\n",
      "     [28 29 30 31]]]\n",
      "\n",
      "\n",
      "   [[[32 33 34 35]\n",
      "     [36 37 38 39]]\n",
      "\n",
      "    [[40 41 42 43]\n",
      "     [44 45 46 47]]\n",
      "\n",
      "    [[48 49 50 51]\n",
      "     [52 53 54 55]]\n",
      "\n",
      "    [[56 57 58 59]\n",
      "     [60 61 62 63]]]]]]\n",
      "\n",
      "t1_shaped.shapetracker: ShapeTracker(views=(View(shape=(1, 1, 2, 4, 2, 4), strides=(0, 0, 32, 8, 4, 1), offset=0, mask=None, contiguous=True),)) \n",
      "\n",
      "t1_shaped.shapetracker: ShapeTracker(views=(View(shape=(1, 1, 2, 4, 2, 4), strides=(0, 0, 32, 8, 4, 1), offset=0, mask=None, contiguous=True),))\n",
      "\n"
     ]
    }
   ],
   "source": [
    "memory = Tensor.arange(start=0, stop=64, step=1)\n",
    "print(f\"memory:\\n{memory.numpy()}\\n\")\n",
    "\n",
    "\n",
    "t1 = Tensor.arange(start=0, stop=64, step=1)\n",
    "t1_shaped = t1.reshape((1, 1, 2, 4, 2, 4))\n",
    "print(f\"t1_shaped:\\n{t1_shaped.numpy()}\\n\")\n",
    "print(f\"t1_shaped.shapetracker: {t1_shaped.lazydata.st} \\n\")\n",
    "\n",
    "\n",
    "t1.lazydata.st.stride((1, 1, 2, 8, 1, 4))\n",
    "print(f\"t1_shaped.shapetracker: {t1_shaped.lazydata.st}\\n\")\n",
    "\n",
    "# how can I change the strides to match the views above? .stride() does not allow 0 in any stride dimension for some reason.\n",
    "\n",
    "# print(f\"t1:\\n{t1.realize().numpy()}\\n\")\n",
    "\n",
    "\n",
    "\n",
    "# t2 = Tensor.arange(start=0, stop=81, step=1)\n",
    "# t2_shaped = t2.reshape((1, 1, 9, 9))\n",
    "# print(f\"t2_shaped:\\n{t2_shaped.numpy()}\\n\")\n",
    "\n",
    "# t3 = Tensor.arange(start=0, stop=81, step=1)\n",
    "# t3_shaped = t3.reshape((1, 1, 1, 1, 3, 3, 3, 3))\n",
    "# print(f\"t3_shaped:\\n{t3_shaped.numpy()}\\n\")"
   ]
  },
  {
   "cell_type": "code",
   "execution_count": null,
   "metadata": {},
   "outputs": [],
   "source": []
  }
 ],
 "metadata": {
  "kernelspec": {
   "display_name": "venv",
   "language": "python",
   "name": "python3"
  },
  "language_info": {
   "codemirror_mode": {
    "name": "ipython",
    "version": 3
   },
   "file_extension": ".py",
   "mimetype": "text/x-python",
   "name": "python",
   "nbconvert_exporter": "python",
   "pygments_lexer": "ipython3",
   "version": "3.12.0"
  }
 },
 "nbformat": 4,
 "nbformat_minor": 2
}
